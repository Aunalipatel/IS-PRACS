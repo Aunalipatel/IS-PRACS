{
 "cells": [
  {
   "cell_type": "code",
   "execution_count": 31,
   "metadata": {},
   "outputs": [
    {
     "name": "stdout",
     "output_type": "stream",
     "text": [
      "[[225 225 225 ... 216 210 132]\n",
      " [225 225 225 ... 216 210 132]\n",
      " [225 225 225 ... 216 210 132]\n",
      " ...\n",
      " [ 34  35  36 ...  13  12   9]\n",
      " [ 33  36  38 ...  14  12   8]\n",
      " [ 32  36  39 ...  14  12   8]]\n",
      "[[0 0 0 0 0 0]\n",
      " [0 0 0 0 0 0]\n",
      " [0 0 0 0 0 0]\n",
      " ...\n",
      " [0 0 0 0 0 0]\n",
      " [0 0 0 0 0 0]\n",
      " [0 0 0 0 0 0]]\n"
     ]
    }
   ],
   "source": [
    "import cv2\n",
    "import numpy as np\n",
    "import math\n",
    "img = cv2.imread('aun.jpeg',0)\n",
    "# d = cv2.imwrite('gray.jpeg',img)\n",
    "# gray_image = cv2.cvtColor(img, cv2.COLOR_BGR2GRAY)\n",
    "print(img)\n",
    "# img = np.array([[1,2,3,8],[4,5,6,8],[7,8,9,8],[1,2,3,8]])\n",
    "# print(img)\n",
    "\n",
    "# key = input()\n",
    "key = 'aunali'\n",
    "# print(key)\n",
    "x = img.shape[0]\n",
    "cols = img.shape[1]\n",
    "l = len(key)\n",
    "# print(co)\n",
    "x2 = x*(math.ceil(float(cols) / float(l) ))\n",
    "img2 = np.full(((x2), l), 0)\n",
    "print(img2)\n",
    "\n",
    "# for i in range(cols):\n",
    "#     for j in range(key.length()):\n"
   ]
  },
  {
   "cell_type": "code",
   "execution_count": 33,
   "metadata": {},
   "outputs": [
    {
     "name": "stdout",
     "output_type": "stream",
     "text": [
      "[[225 225 225 ... 216 210 132]\n",
      " [225 225 225 ... 216 210 132]\n",
      " [225 225 225 ... 216 210 132]\n",
      " ...\n",
      " [ 34  35  36 ...  13  12   9]\n",
      " [ 33  36  38 ...  14  12   8]\n",
      " [ 32  36  39 ...  14  12   8]]\n",
      "[225 225 225 ...  14  12   8]\n"
     ]
    }
   ],
   "source": [
    "import cv2\n",
    "import numpy as np\n",
    "import math\n",
    "img = cv2.imread('aun.jpeg',0)\n",
    "print(img)\n",
    "\n",
    "new = np.ravel(img)\n",
    "print(new)"
   ]
  }
 ],
 "metadata": {
  "interpreter": {
   "hash": "1b2459b97fdc300eef5981ad36f6008bcab06e84ed49ddd62e239819568f4bbe"
  },
  "kernelspec": {
   "display_name": "Python 3.10.0 64-bit",
   "language": "python",
   "name": "python3"
  },
  "language_info": {
   "codemirror_mode": {
    "name": "ipython",
    "version": 3
   },
   "file_extension": ".py",
   "mimetype": "text/x-python",
   "name": "python",
   "nbconvert_exporter": "python",
   "pygments_lexer": "ipython3",
   "version": "3.10.0"
  },
  "orig_nbformat": 4
 },
 "nbformat": 4,
 "nbformat_minor": 2
}
