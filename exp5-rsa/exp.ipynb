{
 "cells": [
  {
   "cell_type": "code",
   "execution_count": 44,
   "metadata": {},
   "outputs": [],
   "source": [
    "import math\n",
    "import random"
   ]
  },
  {
   "cell_type": "code",
   "execution_count": 45,
   "metadata": {},
   "outputs": [],
   "source": [
    "p = 19  #prime no.1\n",
    "q = 13  #prime no.2\n",
    "\n",
    "def gen_public_key(p,q):\n",
    "    n = p*q\n",
    "    phi_n = (p-1)*(q-1)\n",
    "    # e = math.randint(1,phi_n)\n",
    "    # e = random.randint(1,10)\n",
    "    e = 5\n",
    "    # print(e)\n",
    "    return(n,e)"
   ]
  },
  {
   "cell_type": "code",
   "execution_count": 46,
   "metadata": {},
   "outputs": [],
   "source": [
    "def gen_priv_key(p,q,e):\n",
    "    phi_n = (p-1)*(q-1)\n",
    "    # k = random.randint(1,100).\n",
    "    k = 4\n",
    "    d = (k*phi_n + 1)/e\n",
    "    print(\"d is \",d)\n",
    "    d = int (d)\n",
    "    return d"
   ]
  },
  {
   "cell_type": "code",
   "execution_count": 47,
   "metadata": {},
   "outputs": [
    {
     "name": "stdout",
     "output_type": "stream",
     "text": [
      "d is  173.0\n",
      "23\n",
      "225\n"
     ]
    }
   ],
   "source": [
    "n , e = gen_public_key(p,q)\n",
    "# print(n,e)\n",
    "d = gen_priv_key(p,q,e)\n",
    "# print(d)\n",
    "data = 225\n",
    "# data = 89\n",
    "\n",
    "enc = (data**e)%n\n",
    "print(enc)\n",
    "\n",
    "dec = (enc**d)%n \n",
    "print(dec)"
   ]
  },
  {
   "cell_type": "code",
   "execution_count": 56,
   "metadata": {},
   "outputs": [
    {
     "name": "stdout",
     "output_type": "stream",
     "text": [
      "[225 225 225 ...  14  12   8]\n",
      "[225 225 225 ...  14  12   8]\n",
      "[[ 23  23  23 ... 125  58 227]\n",
      " [ 23  23  23 ... 125  58 227]\n",
      " [ 23  23  23 ... 125  58 227]\n",
      " ...\n",
      " [ 21  42  82 ...  52 103  16]\n",
      " [219  82  38 ... 105 103 164]\n",
      " [223  82  39 ... 105 103 164]]\n",
      "[[225 225 225 ... 216 210 132]\n",
      " [225 225 225 ... 216 210 132]\n",
      " [225 225 225 ... 216 210 132]\n",
      " ...\n",
      " [ 34  35  36 ...  13  12   9]\n",
      " [ 33  36  38 ...  14  12   8]\n",
      " [ 32  36  39 ...  14  12   8]]\n"
     ]
    },
    {
     "data": {
      "text/plain": [
       "True"
      ]
     },
     "execution_count": 56,
     "metadata": {},
     "output_type": "execute_result"
    }
   ],
   "source": [
    "import cv2\n",
    "import numpy as np\n",
    "img = cv2.imread('../exp2/aun.jpeg',0)\n",
    "img_flat = img.flatten()\n",
    "print(img_flat)\n",
    "\n",
    "for i in range(len(img_flat)):\n",
    "    if (img_flat[i] > 246):\n",
    "            img_flat[i] = 246\n",
    "\n",
    "# for i in range(574):\n",
    "#     for j in range(574):\n",
    "#         if (img[i][j] > 246):\n",
    "#             img[i][j] = 246\n",
    "\n",
    "print(img_flat)\n",
    "\n",
    "enc_img_flat = np.copy(img_flat) \n",
    "\n",
    "for i in range(len(enc_img_flat)):\n",
    "    enc_img_flat[i] = (int(enc_img_flat[i])**e)%n\n",
    "\n",
    "enc_img = enc_img_flat.reshape((574,574))\n",
    "print(enc_img)\n",
    "\n",
    "# for i in range(574):\n",
    "#     for j in range(574):\n",
    "#         enc_img[i][j] = (enc_img[i][j]**e)%n\n",
    "\n",
    "# print(enc_img.shape)\n",
    "# print(enc_img)\n",
    "\n",
    "# cv2.imwrite('enc_img.jpeg',enc_img)\n",
    "\n",
    "\n",
    "dec_img_flat = np.copy(enc_img_flat)\n",
    "\n",
    "\n",
    "for i in range(len(dec_img_flat)):\n",
    "    dec_img_flat[i] = (int(dec_img_flat[i])**d)%n\n",
    "\n",
    "dec_img = dec_img_flat.reshape((574,574))\n",
    "print(dec_img)\n",
    "\n",
    "\n",
    "# for i in range(574):\n",
    "#     for j in range(574):\n",
    "#         dec_img[i][j] = (enc_img[i][j]**d)%n\n",
    "# print(dec_img)\n",
    "cv2.imwrite('dec_img.jpeg',dec_img)\n"
   ]
  }
 ],
 "metadata": {
  "interpreter": {
   "hash": "d7fb9174bbeb361247548008348d9460131375348861f949b90833d03d042887"
  },
  "kernelspec": {
   "display_name": "Python 3.10.0 64-bit",
   "language": "python",
   "name": "python3"
  },
  "language_info": {
   "codemirror_mode": {
    "name": "ipython",
    "version": 3
   },
   "file_extension": ".py",
   "mimetype": "text/x-python",
   "name": "python",
   "nbconvert_exporter": "python",
   "pygments_lexer": "ipython3",
   "version": "3.10.0"
  },
  "orig_nbformat": 4
 },
 "nbformat": 4,
 "nbformat_minor": 2
}
