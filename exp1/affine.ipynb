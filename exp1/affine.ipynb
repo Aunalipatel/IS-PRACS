{
 "cells": [
  {
   "cell_type": "code",
   "execution_count": null,
   "metadata": {},
   "outputs": [],
   "source": [
    "import cv2\n",
    "import math\n",
    "import numpy as np\n",
    "import random\n",
    "\n",
    "class AffineCipher:\n",
    "   def __init__(self, a, b, m ):\n",
    "       self.a = a\n",
    "       self.b = b\n",
    "       self.m = m\n",
    "       while self.IsCoprime() is False:\n",
    "           print(a,\" and \",m,\" Must be Coprime! \")\n",
    "           a,m = map(int,input(\"Enter a and m (Seperated by single space): \").split(\" \"))\n",
    "           self.a = a\n"
   ]
  }
 ],
 "metadata": {
  "language_info": {
   "name": "python"
  },
  "orig_nbformat": 4
 },
 "nbformat": 4,
 "nbformat_minor": 2
}
