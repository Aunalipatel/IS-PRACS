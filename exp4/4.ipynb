{
 "cells": [
  {
   "cell_type": "markdown",
   "metadata": {},
   "source": [
    "CREATE NEW BLOCK CIPHER TO RUN ON MULTIMEDIA(IMAGES)"
   ]
  },
  {
   "cell_type": "code",
   "execution_count": 22,
   "metadata": {},
   "outputs": [
    {
     "name": "stdout",
     "output_type": "stream",
     "text": [
      "208857537284779434386936139595094330624\n"
     ]
    },
    {
     "data": {
      "text/plain": [
       "True"
      ]
     },
     "execution_count": 22,
     "metadata": {},
     "output_type": "execute_result"
    }
   ],
   "source": [
    "import cv2\n",
    "import numpy as np\n",
    "from math import *\n",
    "# read the image provided\n",
    "img = cv2.imread('watch.jpeg', cv2.IMREAD_COLOR)\n",
    "# Convert image to grey-scale\n",
    "gray_image = cv2.cvtColor(img, cv2.COLOR_BGR2GRAY)\n",
    "    \n",
    "# Convert to numpy array for mathematical calculations\n",
    "grey_arr = np.asarray(gray_image)\n",
    "\n",
    "cv2.imwrite('gray.png', grey_arr)\n",
    "\n",
    "rows,cols = grey_arr.shape\n",
    "# cols = float(cols)\n",
    "# rows = float(rows)\n",
    "# def aunsencrypt(img_arr,key):\n",
    "arr = grey_arr\n",
    "arrnew = arr\n",
    "\n",
    "key =  120 #8 bit so a number within 255 \n",
    "keystring = '10011101001000000111111110011110110010111001010010101011010001101000101101010011110101101101101011010100110011101000110100000000'\n",
    "key2 = int(keystring,2)\n",
    "print(key2 )\n",
    "# keyarray = []\n",
    "\n",
    "def encryptlis(lis):\n",
    "    n = len(lis)\n",
    "    lisnew = []\n",
    "    lisnew.append(lis[0]^key )\n",
    "\n",
    "    for i in range(n-1):\n",
    "        lisnew.append(lisnew[i]^lis[i+1] )\n",
    "    \n",
    "    # print(lis) \n",
    "    \n",
    "    return lisnew\n",
    "\n",
    "for i in range(rows):\n",
    "    for j in range( ceil(cols/4) - 1  ):\n",
    "        lis = []\n",
    "        if(j == ceil(cols/4) - 1 ):\n",
    "            for k in range(cols % 4):\n",
    "                lis.append(arr[i][j*4 + k])\n",
    "            lisnew = encryptlis(lis)\n",
    "            for k in range(cols % 4):\n",
    "                arrnew[i][j*4 + k] = lisnew[k]\n",
    "        else:\n",
    "            for k in range(4):\n",
    "                lis.append(arr[i][j*4 + k])\n",
    "            lisnew = encryptlis(lis)\n",
    "            for k in range(4):\n",
    "                arrnew[i][j*4 + k] = lisnew[k]\n",
    "            \n",
    "        \n",
    "            \n",
    "cv2.imwrite('encrypted.png', arrnew)\n",
    " \n",
    "\n"
   ]
  }
 ],
 "metadata": {
  "interpreter": {
   "hash": "1b2459b97fdc300eef5981ad36f6008bcab06e84ed49ddd62e239819568f4bbe"
  },
  "kernelspec": {
   "display_name": "Python 3.10.0 64-bit",
   "language": "python",
   "name": "python3"
  },
  "language_info": {
   "codemirror_mode": {
    "name": "ipython",
    "version": 3
   },
   "file_extension": ".py",
   "mimetype": "text/x-python",
   "name": "python",
   "nbconvert_exporter": "python",
   "pygments_lexer": "ipython3",
   "version": "3.10.0"
  },
  "orig_nbformat": 4
 },
 "nbformat": 4,
 "nbformat_minor": 2
}
